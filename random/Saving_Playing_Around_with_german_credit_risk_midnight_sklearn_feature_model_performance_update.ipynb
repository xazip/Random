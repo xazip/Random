{
  "nbformat": 4,
  "nbformat_minor": 0,
  "metadata": {
    "colab": {
      "name": "Saving_Playing_Around_with_german_credit_risk_midnight_sklearn_feature/model_performance_update",
      "provenance": []
    },
    "kernelspec": {
      "name": "python3",
      "display_name": "Python 3"
    }
  },
  "cells": [
    {
      "cell_type": "code",
      "metadata": {
        "id": "ntfkagd4Oygn"
      },
      "source": [
        "import pandas as pd\n",
        "from pandas.plotting import scatter_matrix\n",
        "import numpy as np\n",
        "import seaborn as sns\n",
        "import matplotlib.pyplot as plt\n",
        "\n",
        "df = pd.read_csv(\"https://raw.githubusercontent.com/asukul/DS301-f19/master/datasets/credit_data/german_credit_data.csv\")\n"
      ],
      "execution_count": 1,
      "outputs": []
    },
    {
      "cell_type": "code",
      "metadata": {
        "id": "dCGwSqmsV9pq",
        "outputId": "7ab004ec-8618-4327-fe90-decd069fb4e4",
        "colab": {
          "base_uri": "https://localhost:8080/",
          "height": 260
        }
      },
      "source": [
        "df.head"
      ],
      "execution_count": 2,
      "outputs": [
        {
          "output_type": "execute_result",
          "data": {
            "text/plain": [
              "<bound method NDFrame.head of      Unnamed: 0  Age     Sex  ...  Duration              Purpose  Risk\n",
              "0             0   67    male  ...         6             radio/TV  good\n",
              "1             1   22  female  ...        48             radio/TV   bad\n",
              "2             2   49    male  ...        12            education  good\n",
              "3             3   45    male  ...        42  furniture/equipment  good\n",
              "4             4   53    male  ...        24                  car   bad\n",
              "..          ...  ...     ...  ...       ...                  ...   ...\n",
              "995         995   31  female  ...        12  furniture/equipment  good\n",
              "996         996   40    male  ...        30                  car  good\n",
              "997         997   38    male  ...        12             radio/TV  good\n",
              "998         998   23    male  ...        45             radio/TV   bad\n",
              "999         999   27    male  ...        45                  car  good\n",
              "\n",
              "[1000 rows x 11 columns]>"
            ]
          },
          "metadata": {
            "tags": []
          },
          "execution_count": 2
        }
      ]
    },
    {
      "cell_type": "code",
      "metadata": {
        "id": "fY6miOK3WCbb",
        "outputId": "4be2e80f-88c0-4a5c-d439-fe6838860b2c",
        "colab": {
          "base_uri": "https://localhost:8080/",
          "height": 330
        }
      },
      "source": [
        "df.info()\n",
        "#There are 1000 instances in the dataset, which means this is a very small dataset\n",
        "#There appears to be missing values\n",
        "#The data is comprised of numerical and categorical attributes(features)"
      ],
      "execution_count": 3,
      "outputs": [
        {
          "output_type": "stream",
          "text": [
            "<class 'pandas.core.frame.DataFrame'>\n",
            "RangeIndex: 1000 entries, 0 to 999\n",
            "Data columns (total 11 columns):\n",
            " #   Column            Non-Null Count  Dtype \n",
            "---  ------            --------------  ----- \n",
            " 0   Unnamed: 0        1000 non-null   int64 \n",
            " 1   Age               1000 non-null   int64 \n",
            " 2   Sex               1000 non-null   object\n",
            " 3   Job               1000 non-null   int64 \n",
            " 4   Housing           1000 non-null   object\n",
            " 5   Saving accounts   817 non-null    object\n",
            " 6   Checking account  606 non-null    object\n",
            " 7   Credit amount     1000 non-null   int64 \n",
            " 8   Duration          1000 non-null   int64 \n",
            " 9   Purpose           1000 non-null   object\n",
            " 10  Risk              1000 non-null   object\n",
            "dtypes: int64(5), object(6)\n",
            "memory usage: 86.1+ KB\n"
          ],
          "name": "stdout"
        }
      ]
    },
    {
      "cell_type": "code",
      "metadata": {
        "id": "yI43Ze8iWYxy",
        "outputId": "bd8aa7ef-ab71-4270-f6e0-2ee1560dfff7",
        "colab": {
          "base_uri": "https://localhost:8080/",
          "height": 69
        }
      },
      "source": [
        "#Let's view the categorical values aka \"levels\"\n",
        "df[\"Sex\"].value_counts()"
      ],
      "execution_count": 4,
      "outputs": [
        {
          "output_type": "execute_result",
          "data": {
            "text/plain": [
              "male      690\n",
              "female    310\n",
              "Name: Sex, dtype: int64"
            ]
          },
          "metadata": {
            "tags": []
          },
          "execution_count": 4
        }
      ]
    },
    {
      "cell_type": "code",
      "metadata": {
        "id": "WCW0Qf6DW52h",
        "outputId": "50f3d559-7af4-4d45-a31f-b19150a74079",
        "colab": {
          "base_uri": "https://localhost:8080/",
          "height": 86
        }
      },
      "source": [
        "df[\"Housing\"].value_counts()"
      ],
      "execution_count": 5,
      "outputs": [
        {
          "output_type": "execute_result",
          "data": {
            "text/plain": [
              "own     713\n",
              "rent    179\n",
              "free    108\n",
              "Name: Housing, dtype: int64"
            ]
          },
          "metadata": {
            "tags": []
          },
          "execution_count": 5
        }
      ]
    },
    {
      "cell_type": "code",
      "metadata": {
        "id": "ewF97nx5W9M5",
        "outputId": "2f9c470a-af53-43c8-c925-1829ad8076c1",
        "colab": {
          "base_uri": "https://localhost:8080/",
          "height": 104
        }
      },
      "source": [
        "df[\"Saving accounts\"].value_counts()"
      ],
      "execution_count": 6,
      "outputs": [
        {
          "output_type": "execute_result",
          "data": {
            "text/plain": [
              "little        603\n",
              "moderate      103\n",
              "quite rich     63\n",
              "rich           48\n",
              "Name: Saving accounts, dtype: int64"
            ]
          },
          "metadata": {
            "tags": []
          },
          "execution_count": 6
        }
      ]
    },
    {
      "cell_type": "code",
      "metadata": {
        "id": "8gEA21itXBXT",
        "outputId": "cc92cc42-9467-46a8-c0db-94d3c6f06734",
        "colab": {
          "base_uri": "https://localhost:8080/",
          "height": 86
        }
      },
      "source": [
        "df[\"Checking account\"].value_counts()"
      ],
      "execution_count": 7,
      "outputs": [
        {
          "output_type": "execute_result",
          "data": {
            "text/plain": [
              "little      274\n",
              "moderate    269\n",
              "rich         63\n",
              "Name: Checking account, dtype: int64"
            ]
          },
          "metadata": {
            "tags": []
          },
          "execution_count": 7
        }
      ]
    },
    {
      "cell_type": "code",
      "metadata": {
        "id": "dlHWx_lcXJKt",
        "outputId": "6a9cdf5d-0fae-481f-e8d3-46bb25d71867",
        "colab": {
          "base_uri": "https://localhost:8080/",
          "height": 173
        }
      },
      "source": [
        "df[\"Purpose\"].value_counts()"
      ],
      "execution_count": 8,
      "outputs": [
        {
          "output_type": "execute_result",
          "data": {
            "text/plain": [
              "car                    337\n",
              "radio/TV               280\n",
              "furniture/equipment    181\n",
              "business                97\n",
              "education               59\n",
              "repairs                 22\n",
              "vacation/others         12\n",
              "domestic appliances     12\n",
              "Name: Purpose, dtype: int64"
            ]
          },
          "metadata": {
            "tags": []
          },
          "execution_count": 8
        }
      ]
    },
    {
      "cell_type": "code",
      "metadata": {
        "id": "dmu6jxfMXNfS",
        "outputId": "96015928-0e2c-4d47-f156-70639c7792e0",
        "colab": {
          "base_uri": "https://localhost:8080/",
          "height": 69
        }
      },
      "source": [
        "df[\"Risk\"].value_counts()"
      ],
      "execution_count": 9,
      "outputs": [
        {
          "output_type": "execute_result",
          "data": {
            "text/plain": [
              "good    700\n",
              "bad     300\n",
              "Name: Risk, dtype: int64"
            ]
          },
          "metadata": {
            "tags": []
          },
          "execution_count": 9
        }
      ]
    },
    {
      "cell_type": "code",
      "metadata": {
        "id": "n3T3JBYDXUDa",
        "outputId": "008b169c-c962-4d2c-90e0-ace9645f19b7",
        "colab": {
          "base_uri": "https://localhost:8080/",
          "height": 365
        }
      },
      "source": [
        "#Since the only missing values are categorical, let's plot those rn\n",
        "sns.heatmap(df.isnull(), cbar=False)"
      ],
      "execution_count": 10,
      "outputs": [
        {
          "output_type": "execute_result",
          "data": {
            "text/plain": [
              "<matplotlib.axes._subplots.AxesSubplot at 0x7faa7436ea20>"
            ]
          },
          "metadata": {
            "tags": []
          },
          "execution_count": 10
        },
        {
          "output_type": "display_data",
          "data": {
            "image/png": "[encoded data removed]",
            "text/plain": [
              "<Figure size 432x288 with 1 Axes>"
            ]
          },
          "metadata": {
            "tags": [],
            "needs_background": "light"
          }
        }
      ]
    },
    {
      "cell_type": "code",
      "metadata": {
        "id": "lr5BKn8eXqn0",
        "outputId": "ba6d089e-36fd-4460-958f-759d438e8d16",
        "colab": {
          "base_uri": "https://localhost:8080/",
          "height": 296
        }
      },
      "source": [
        "#Lets look at the target variable\n",
        "sns.countplot(x = \"Risk\", data = df)"
      ],
      "execution_count": 11,
      "outputs": [
        {
          "output_type": "execute_result",
          "data": {
            "text/plain": [
              "<matplotlib.axes._subplots.AxesSubplot at 0x7faa71a68da0>"
            ]
          },
          "metadata": {
            "tags": []
          },
          "execution_count": 11
        },
        {
          "output_type": "display_data",
          "data": {
            "image/png": "[encoded data removed]",
            "text/plain": [
              "<Figure size 432x288 with 1 Axes>"
            ]
          },
          "metadata": {
            "tags": [],
            "needs_background": "light"
          }
        }
      ]
    },
    {
      "cell_type": "code",
      "metadata": {
        "id": "8OeM9cA7X9bK",
        "outputId": "5d7a885a-d4c8-4201-8650-7bea8108d5f7",
        "colab": {
          "base_uri": "https://localhost:8080/",
          "height": 296
        }
      },
      "source": [
        "sns.boxplot(x = \"Housing\", y = \"Age\", data = df)"
      ],
      "execution_count": 12,
      "outputs": [
        {
          "output_type": "execute_result",
          "data": {
            "text/plain": [
              "<matplotlib.axes._subplots.AxesSubplot at 0x7faa715a4160>"
            ]
          },
          "metadata": {
            "tags": []
          },
          "execution_count": 12
        },
        {
          "output_type": "display_data",
          "data": {
            "image/png": "[encoded data removed]",
            "text/plain": [
              "<Figure size 432x288 with 1 Axes>"
            ]
          },
          "metadata": {
            "tags": [],
            "needs_background": "light"
          }
        }
      ]
    },
    {
      "cell_type": "code",
      "metadata": {
        "id": "p5aRfCq-YFgy",
        "outputId": "aee4f6d4-6893-4a80-c570-4e83ed8778bd",
        "colab": {
          "base_uri": "https://localhost:8080/",
          "height": 121
        }
      },
      "source": [
        "corr_matrix = df.corr()\n",
        "corr_matrix[\"Credit amount\"].sort_values(ascending = False)"
      ],
      "execution_count": 13,
      "outputs": [
        {
          "output_type": "execute_result",
          "data": {
            "text/plain": [
              "Credit amount    1.000000\n",
              "Duration         0.624984\n",
              "Job              0.285385\n",
              "Age              0.032716\n",
              "Unnamed: 0       0.013488\n",
              "Name: Credit amount, dtype: float64"
            ]
          },
          "metadata": {
            "tags": []
          },
          "execution_count": 13
        }
      ]
    },
    {
      "cell_type": "code",
      "metadata": {
        "id": "V-cPGPOzYRwK",
        "outputId": "2a076345-75cb-4a2c-bd04-024d00b6704c",
        "colab": {
          "base_uri": "https://localhost:8080/",
          "height": 807
        }
      },
      "source": [
        "attributes = [\"Credit amount\", \"Duration\", \"Job\", \"Age\"]\n",
        "scatter_matrix(df[attributes], figsize = (12, 8))"
      ],
      "execution_count": 14,
      "outputs": [
        {
          "output_type": "execute_result",
          "data": {
            "text/plain": [
              "array([[<matplotlib.axes._subplots.AxesSubplot object at 0x7faa71506eb8>,\n",
              "        <matplotlib.axes._subplots.AxesSubplot object at 0x7faa714ce198>,\n",
              "        <matplotlib.axes._subplots.AxesSubplot object at 0x7faa7147f400>,\n",
              "        <matplotlib.axes._subplots.AxesSubplot object at 0x7faa71434668>],\n",
              "       [<matplotlib.axes._subplots.AxesSubplot object at 0x7faa713e88d0>,\n",
              "        <matplotlib.axes._subplots.AxesSubplot object at 0x7faa7139cb38>,\n",
              "        <matplotlib.axes._subplots.AxesSubplot object at 0x7faa713ceda0>,\n",
              "        <matplotlib.axes._subplots.AxesSubplot object at 0x7faa71383fd0>],\n",
              "       [<matplotlib.axes._subplots.AxesSubplot object at 0x7faa71392080>,\n",
              "        <matplotlib.axes._subplots.AxesSubplot object at 0x7faa712f8518>,\n",
              "        <matplotlib.axes._subplots.AxesSubplot object at 0x7faa712aa780>,\n",
              "        <matplotlib.axes._subplots.AxesSubplot object at 0x7faa7125f9e8>],\n",
              "       [<matplotlib.axes._subplots.AxesSubplot object at 0x7faa71213c50>,\n",
              "        <matplotlib.axes._subplots.AxesSubplot object at 0x7faa71247eb8>,\n",
              "        <matplotlib.axes._subplots.AxesSubplot object at 0x7faa7120a160>,\n",
              "        <matplotlib.axes._subplots.AxesSubplot object at 0x7faa71a78dd8>]],\n",
              "      dtype=object)"
            ]
          },
          "metadata": {
            "tags": []
          },
          "execution_count": 14
        },
        {
          "output_type": "display_data",
          "data": {
            "image/png": "[encoded data removed]",
            "text/plain": [
              "<Figure size 864x576 with 16 Axes>"
            ]
          },
          "metadata": {
            "tags": [],
            "needs_background": "light"
          }
        }
      ]
    },
    {
      "cell_type": "code",
      "metadata": {
        "id": "FHvLGEkdagFr"
      },
      "source": [
        "df = df.drop([\"Unnamed: 0\"], axis = 1)\n",
        "df = df.drop([\"Age\"], axis = 1)"
      ],
      "execution_count": 15,
      "outputs": []
    },
    {
      "cell_type": "code",
      "metadata": {
        "id": "0wXcofBlaxQr",
        "outputId": "f8da5074-1966-4626-f518-f097a2d7f0fd",
        "colab": {
          "base_uri": "https://localhost:8080/",
          "height": 104
        }
      },
      "source": [
        "Quantitative = ['int16', 'int32', 'int64', 'float16', 'float32', 'float64']\n",
        "Quantitative_V = []\n",
        "for i in df.columns:\n",
        "    if df[i].dtype in Quantitative:\n",
        "        Quantitative_V.append(i)\n",
        "df.update(df[Quantitative_V].fillna(df.mean, inplace = True))"
      ],
      "execution_count": 16,
      "outputs": [
        {
          "output_type": "stream",
          "text": [
            "/usr/local/lib/python3.6/dist-packages/pandas/core/frame.py:4322: SettingWithCopyWarning: \n",
            "A value is trying to be set on a copy of a slice from a DataFrame\n",
            "\n",
            "See the caveats in the documentation: https://pandas.pydata.org/pandas-docs/stable/user_guide/indexing.html#returning-a-view-versus-a-copy\n",
            "  downcast=downcast,\n"
          ],
          "name": "stderr"
        }
      ]
    },
    {
      "cell_type": "code",
      "metadata": {
        "id": "2a2egKzFa15q"
      },
      "source": [
        "df.fillna(\"change\", inplace=True)\n",
        "\n",
        "filter = (df['Saving accounts'] == \"change\") & (df['Checking account'] == \"little\") \n",
        "\n",
        "df['Saving accounts'] = df['Saving accounts'].where(~filter, \"little\")\n",
        "\n",
        "filter = (df['Checking account'] == \"change\") & (df['Saving accounts'] == \"little\")\n",
        "\n",
        "df['Checking account'] = df['Checking account'].where(~filter, \"little\")\n",
        "\n",
        "#------------------------------------------------------------------------------------------------------------------#\n",
        "\n",
        "filter = (df['Saving accounts'] == \"change\") & (df['Checking account'] == \"moderate\")\n",
        "\n",
        "df['Saving accounts'] = df['Saving accounts'].where(~filter, \"moderate\")\n",
        "\n",
        "filter = (df['Checking account'] == \"change\") & (df['Saving accounts'] == \"moderate\")\n",
        "\n",
        "df['Checking account'] = df['Checking account'].where(~filter, \"moderate\")\n",
        "\n",
        "#-------------------------------------------------------------------------------------------------------------------#\n",
        "\n",
        "\n",
        "filter = (df['Saving accounts'] == \"change\") & (df['Checking account'] == \"rich\")\n",
        "\n",
        "df['Saving accounts'] = df['Saving accounts'].where(~filter, \"rich\")\n",
        "\n",
        "filter = (df['Checking account'] == \"change\") & (df['Saving accounts'] == \"rich\")\n",
        "\n",
        "df['Checking account'] = df['Checking account'].where(~filter, \"rich\")\n",
        "#-------------------------------------------------------------------------------------------------------------------#\n",
        "\n",
        "filter = (df['Saving accounts'] == \"quite rich\") & (df['Checking account'] == \"change\")\n",
        "\n",
        "df['Checking account'] = df['Checking account'].where(~filter, \"quite rich\")\n",
        "\n",
        "df = df.replace(\"change\", np.nan)\n",
        "\n",
        "#Realization ahead: using the above conditional statements to fill in na values for checking account and savings account \n",
        "# Some model perform better\n",
        "# Some models perform slightly worse with the above code + fillna(x.value_counts)"
      ],
      "execution_count": 17,
      "outputs": []
    },
    {
      "cell_type": "code",
      "metadata": {
        "id": "KnQxBK1ycUPj",
        "outputId": "1bb8b883-2a2e-4a7e-ccf6-82c2ca4f7feb",
        "colab": {
          "base_uri": "https://localhost:8080/",
          "height": 295
        }
      },
      "source": [
        "df.info()"
      ],
      "execution_count": 18,
      "outputs": [
        {
          "output_type": "stream",
          "text": [
            "<class 'pandas.core.frame.DataFrame'>\n",
            "RangeIndex: 1000 entries, 0 to 999\n",
            "Data columns (total 9 columns):\n",
            " #   Column            Non-Null Count  Dtype \n",
            "---  ------            --------------  ----- \n",
            " 0   Sex               1000 non-null   object\n",
            " 1   Job               1000 non-null   int64 \n",
            " 2   Housing           1000 non-null   object\n",
            " 3   Saving accounts   901 non-null    object\n",
            " 4   Checking account  901 non-null    object\n",
            " 5   Credit amount     1000 non-null   int64 \n",
            " 6   Duration          1000 non-null   int64 \n",
            " 7   Purpose           1000 non-null   object\n",
            " 8   Risk              1000 non-null   object\n",
            "dtypes: int64(3), object(6)\n",
            "memory usage: 70.4+ KB\n"
          ],
          "name": "stdout"
        }
      ]
    },
    {
      "cell_type": "code",
      "metadata": {
        "id": "Tsv0BiK7c6l1"
      },
      "source": [
        "#We still have some missing values after are conditional cleaning\n",
        "#Let's fill these values with the above suggestiom\n",
        "df = df.apply(lambda x:x.fillna(x.value_counts().index[0]))"
      ],
      "execution_count": 19,
      "outputs": []
    },
    {
      "cell_type": "code",
      "metadata": {
        "id": "7MQRrhQFdH17",
        "outputId": "73e426c0-2375-4b83-a6b3-4cc8f3d4c114",
        "colab": {
          "base_uri": "https://localhost:8080/",
          "height": 295
        }
      },
      "source": [
        "df.info()"
      ],
      "execution_count": 20,
      "outputs": [
        {
          "output_type": "stream",
          "text": [
            "<class 'pandas.core.frame.DataFrame'>\n",
            "RangeIndex: 1000 entries, 0 to 999\n",
            "Data columns (total 9 columns):\n",
            " #   Column            Non-Null Count  Dtype \n",
            "---  ------            --------------  ----- \n",
            " 0   Sex               1000 non-null   object\n",
            " 1   Job               1000 non-null   int64 \n",
            " 2   Housing           1000 non-null   object\n",
            " 3   Saving accounts   1000 non-null   object\n",
            " 4   Checking account  1000 non-null   object\n",
            " 5   Credit amount     1000 non-null   int64 \n",
            " 6   Duration          1000 non-null   int64 \n",
            " 7   Purpose           1000 non-null   object\n",
            " 8   Risk              1000 non-null   object\n",
            "dtypes: int64(3), object(6)\n",
            "memory usage: 70.4+ KB\n"
          ],
          "name": "stdout"
        }
      ]
    },
    {
      "cell_type": "code",
      "metadata": {
        "id": "0FmG9mZGdiiL"
      },
      "source": [
        "df = pd.get_dummies(df, columns = [\"Sex\", \"Housing\", \"Saving accounts\", \"Checking account\", \"Purpose\"])"
      ],
      "execution_count": 21,
      "outputs": []
    },
    {
      "cell_type": "code",
      "metadata": {
        "id": "itskD_4gdrl8",
        "outputId": "96dc7bfe-a44e-4f42-a431-80e6596de882",
        "colab": {
          "base_uri": "https://localhost:8080/",
          "height": 573
        }
      },
      "source": [
        "df.info()"
      ],
      "execution_count": 22,
      "outputs": [
        {
          "output_type": "stream",
          "text": [
            "<class 'pandas.core.frame.DataFrame'>\n",
            "RangeIndex: 1000 entries, 0 to 999\n",
            "Data columns (total 25 columns):\n",
            " #   Column                       Non-Null Count  Dtype \n",
            "---  ------                       --------------  ----- \n",
            " 0   Job                          1000 non-null   int64 \n",
            " 1   Credit amount                1000 non-null   int64 \n",
            " 2   Duration                     1000 non-null   int64 \n",
            " 3   Risk                         1000 non-null   object\n",
            " 4   Sex_female                   1000 non-null   uint8 \n",
            " 5   Sex_male                     1000 non-null   uint8 \n",
            " 6   Housing_free                 1000 non-null   uint8 \n",
            " 7   Housing_own                  1000 non-null   uint8 \n",
            " 8   Housing_rent                 1000 non-null   uint8 \n",
            " 9   Saving accounts_little       1000 non-null   uint8 \n",
            " 10  Saving accounts_moderate     1000 non-null   uint8 \n",
            " 11  Saving accounts_quite rich   1000 non-null   uint8 \n",
            " 12  Saving accounts_rich         1000 non-null   uint8 \n",
            " 13  Checking account_little      1000 non-null   uint8 \n",
            " 14  Checking account_moderate    1000 non-null   uint8 \n",
            " 15  Checking account_quite rich  1000 non-null   uint8 \n",
            " 16  Checking account_rich        1000 non-null   uint8 \n",
            " 17  Purpose_business             1000 non-null   uint8 \n",
            " 18  Purpose_car                  1000 non-null   uint8 \n",
            " 19  Purpose_domestic appliances  1000 non-null   uint8 \n",
            " 20  Purpose_education            1000 non-null   uint8 \n",
            " 21  Purpose_furniture/equipment  1000 non-null   uint8 \n",
            " 22  Purpose_radio/TV             1000 non-null   uint8 \n",
            " 23  Purpose_repairs              1000 non-null   uint8 \n",
            " 24  Purpose_vacation/others      1000 non-null   uint8 \n",
            "dtypes: int64(3), object(1), uint8(21)\n",
            "memory usage: 51.9+ KB\n"
          ],
          "name": "stdout"
        }
      ]
    },
    {
      "cell_type": "code",
      "metadata": {
        "id": "FlyBLxaYfsls",
        "outputId": "6810d004-047a-4358-9b69-1404270c757f",
        "colab": {
          "base_uri": "https://localhost:8080/",
          "height": 261
        }
      },
      "source": [
        "df.head()"
      ],
      "execution_count": 23,
      "outputs": [
        {
          "output_type": "execute_result",
          "data": {
            "text/html": [
              "<div>\n",
              "<style scoped>\n",
              "    .dataframe tbody tr th:only-of-type {\n",
              "        vertical-align: middle;\n",
              "    }\n",
              "\n",
              "    .dataframe tbody tr th {\n",
              "        vertical-align: top;\n",
              "    }\n",
              "\n",
              "    .dataframe thead th {\n",
              "        text-align: right;\n",
              "    }\n",
              "</style>\n",
              "<table border=\"1\" class=\"dataframe\">\n",
              "  <thead>\n",
              "    <tr style=\"text-align: right;\">\n",
              "      <th></th>\n",
              "      <th>Job</th>\n",
              "      <th>Credit amount</th>\n",
              "      <th>Duration</th>\n",
              "      <th>Risk</th>\n",
              "      <th>Sex_female</th>\n",
              "      <th>Sex_male</th>\n",
              "      <th>Housing_free</th>\n",
              "      <th>Housing_own</th>\n",
              "      <th>Housing_rent</th>\n",
              "      <th>Saving accounts_little</th>\n",
              "      <th>Saving accounts_moderate</th>\n",
              "      <th>Saving accounts_quite rich</th>\n",
              "      <th>Saving accounts_rich</th>\n",
              "      <th>Checking account_little</th>\n",
              "      <th>Checking account_moderate</th>\n",
              "      <th>Checking account_quite rich</th>\n",
              "      <th>Checking account_rich</th>\n",
              "      <th>Purpose_business</th>\n",
              "      <th>Purpose_car</th>\n",
              "      <th>Purpose_domestic appliances</th>\n",
              "      <th>Purpose_education</th>\n",
              "      <th>Purpose_furniture/equipment</th>\n",
              "      <th>Purpose_radio/TV</th>\n",
              "      <th>Purpose_repairs</th>\n",
              "      <th>Purpose_vacation/others</th>\n",
              "    </tr>\n",
              "  </thead>\n",
              "  <tbody>\n",
              "    <tr>\n",
              "      <th>0</th>\n",
              "      <td>2</td>\n",
              "      <td>1169</td>\n",
              "      <td>6</td>\n",
              "      <td>good</td>\n",
              "      <td>0</td>\n",
              "      <td>1</td>\n",
              "      <td>0</td>\n",
              "      <td>1</td>\n",
              "      <td>0</td>\n",
              "      <td>1</td>\n",
              "      <td>0</td>\n",
              "      <td>0</td>\n",
              "      <td>0</td>\n",
              "      <td>1</td>\n",
              "      <td>0</td>\n",
              "      <td>0</td>\n",
              "      <td>0</td>\n",
              "      <td>0</td>\n",
              "      <td>0</td>\n",
              "      <td>0</td>\n",
              "      <td>0</td>\n",
              "      <td>0</td>\n",
              "      <td>1</td>\n",
              "      <td>0</td>\n",
              "      <td>0</td>\n",
              "    </tr>\n",
              "    <tr>\n",
              "      <th>1</th>\n",
              "      <td>2</td>\n",
              "      <td>5951</td>\n",
              "      <td>48</td>\n",
              "      <td>bad</td>\n",
              "      <td>1</td>\n",
              "      <td>0</td>\n",
              "      <td>0</td>\n",
              "      <td>1</td>\n",
              "      <td>0</td>\n",
              "      <td>1</td>\n",
              "      <td>0</td>\n",
              "      <td>0</td>\n",
              "      <td>0</td>\n",
              "      <td>0</td>\n",
              "      <td>1</td>\n",
              "      <td>0</td>\n",
              "      <td>0</td>\n",
              "      <td>0</td>\n",
              "      <td>0</td>\n",
              "      <td>0</td>\n",
              "      <td>0</td>\n",
              "      <td>0</td>\n",
              "      <td>1</td>\n",
              "      <td>0</td>\n",
              "      <td>0</td>\n",
              "    </tr>\n",
              "    <tr>\n",
              "      <th>2</th>\n",
              "      <td>1</td>\n",
              "      <td>2096</td>\n",
              "      <td>12</td>\n",
              "      <td>good</td>\n",
              "      <td>0</td>\n",
              "      <td>1</td>\n",
              "      <td>0</td>\n",
              "      <td>1</td>\n",
              "      <td>0</td>\n",
              "      <td>1</td>\n",
              "      <td>0</td>\n",
              "      <td>0</td>\n",
              "      <td>0</td>\n",
              "      <td>1</td>\n",
              "      <td>0</td>\n",
              "      <td>0</td>\n",
              "      <td>0</td>\n",
              "      <td>0</td>\n",
              "      <td>0</td>\n",
              "      <td>0</td>\n",
              "      <td>1</td>\n",
              "      <td>0</td>\n",
              "      <td>0</td>\n",
              "      <td>0</td>\n",
              "      <td>0</td>\n",
              "    </tr>\n",
              "    <tr>\n",
              "      <th>3</th>\n",
              "      <td>2</td>\n",
              "      <td>7882</td>\n",
              "      <td>42</td>\n",
              "      <td>good</td>\n",
              "      <td>0</td>\n",
              "      <td>1</td>\n",
              "      <td>1</td>\n",
              "      <td>0</td>\n",
              "      <td>0</td>\n",
              "      <td>1</td>\n",
              "      <td>0</td>\n",
              "      <td>0</td>\n",
              "      <td>0</td>\n",
              "      <td>1</td>\n",
              "      <td>0</td>\n",
              "      <td>0</td>\n",
              "      <td>0</td>\n",
              "      <td>0</td>\n",
              "      <td>0</td>\n",
              "      <td>0</td>\n",
              "      <td>0</td>\n",
              "      <td>1</td>\n",
              "      <td>0</td>\n",
              "      <td>0</td>\n",
              "      <td>0</td>\n",
              "    </tr>\n",
              "    <tr>\n",
              "      <th>4</th>\n",
              "      <td>2</td>\n",
              "      <td>4870</td>\n",
              "      <td>24</td>\n",
              "      <td>bad</td>\n",
              "      <td>0</td>\n",
              "      <td>1</td>\n",
              "      <td>1</td>\n",
              "      <td>0</td>\n",
              "      <td>0</td>\n",
              "      <td>1</td>\n",
              "      <td>0</td>\n",
              "      <td>0</td>\n",
              "      <td>0</td>\n",
              "      <td>1</td>\n",
              "      <td>0</td>\n",
              "      <td>0</td>\n",
              "      <td>0</td>\n",
              "      <td>0</td>\n",
              "      <td>1</td>\n",
              "      <td>0</td>\n",
              "      <td>0</td>\n",
              "      <td>0</td>\n",
              "      <td>0</td>\n",
              "      <td>0</td>\n",
              "      <td>0</td>\n",
              "    </tr>\n",
              "  </tbody>\n",
              "</table>\n",
              "</div>"
            ],
            "text/plain": [
              "   Job  Credit amount  ...  Purpose_repairs Purpose_vacation/others\n",
              "0    2           1169  ...                0                       0\n",
              "1    2           5951  ...                0                       0\n",
              "2    1           2096  ...                0                       0\n",
              "3    2           7882  ...                0                       0\n",
              "4    2           4870  ...                0                       0\n",
              "\n",
              "[5 rows x 25 columns]"
            ]
          },
          "metadata": {
            "tags": []
          },
          "execution_count": 23
        }
      ]
    },
    {
      "cell_type": "code",
      "metadata": {
        "id": "JxBjG14mgH7i"
      },
      "source": [
        "from sklearn.model_selection import train_test_split\n",
        "X, y = df.loc[:, df.columns != \"Risk\"], df[[\"Risk\"]]\n",
        "X_train, X_test, y_train, y_test = train_test_split(X, y, random_state = 42)"
      ],
      "execution_count": 24,
      "outputs": []
    },
    {
      "cell_type": "code",
      "metadata": {
        "id": "CosBedCxh3PZ"
      },
      "source": [
        "#Import PipeLine\n",
        "from sklearn.pipeline import Pipeline\n",
        "from sklearn.pipeline import make_pipeline"
      ],
      "execution_count": 25,
      "outputs": []
    },
    {
      "cell_type": "code",
      "metadata": {
        "id": "MumTYaVTmagD"
      },
      "source": [
        "#Import performance measures\n",
        "from sklearn.metrics import precision_score, recall_score, f1_score\n",
        "from sklearn.metrics import confusion_matrix\n",
        "from sklearn.metrics import accuracy_score"
      ],
      "execution_count": 26,
      "outputs": []
    },
    {
      "cell_type": "code",
      "metadata": {
        "id": "HJbTtliig06T",
        "outputId": "631d309e-d21a-4512-c5b1-9cd746857e19",
        "colab": {
          "base_uri": "https://localhost:8080/",
          "height": 139
        }
      },
      "source": [
        "#Decision Tree\n",
        "from sklearn.tree import DecisionTreeClassifier\n",
        "DT = make_pipeline(DecisionTreeClassifier())\n",
        "\n",
        "DT_model = DT.fit(X_train, y_train)\n",
        "DT_pred = DT.predict(X_test)\n",
        "\n",
        "print(\"Accuracy_Score = \", accuracy_score(y_test, DT_pred))\n",
        "print(\"Precision Score = \", precision_score(y_test, DT_pred, average = \"binary\", pos_label = \"good\"))\n",
        "print(\"Recall Score = \", recall_score(y_test, DT_pred, average = \"binary\", pos_label = \"good\"))\n",
        "print(\"f1 score good = \", f1_score(y_test, DT_pred, average = \"binary\", pos_label = \"good\"))\n",
        "print(\"f1 score bad = \", f1_score(y_test, DT_pred, average = \"binary\", pos_label = \"bad\"))\n",
        "\n",
        "print(\"CM\", confusion_matrix(y_test, DT_pred))\n"
      ],
      "execution_count": 27,
      "outputs": [
        {
          "output_type": "stream",
          "text": [
            "Accuracy_Score =  0.628\n",
            "Precision Score =  0.7544910179640718\n",
            "Recall Score =  0.7078651685393258\n",
            "f1 score good =  0.7304347826086955\n",
            "f1 score bad =  0.4\n",
            "CM [[ 31  41]\n",
            " [ 52 126]]\n"
          ],
          "name": "stdout"
        }
      ]
    },
    {
      "cell_type": "code",
      "metadata": {
        "id": "GumkTcWNinsn",
        "outputId": "906f5f1c-d153-4c23-b96f-563de97fc549",
        "colab": {
          "base_uri": "https://localhost:8080/",
          "height": 193
        }
      },
      "source": [
        "#Naive Bayes\n",
        "from sklearn.naive_bayes import GaussianNB\n",
        "NB = make_pipeline(GaussianNB())\n",
        "\n",
        "NB_model = NB.fit(X_train, y_train)\n",
        "NB_pred = NB.predict(X_test)\n",
        "\n",
        "print(\"Accuracy_Score = \", accuracy_score(y_test, NB_pred))\n",
        "print(\"Precision Score = \", precision_score(y_test, NB_pred, average = \"binary\", pos_label = \"good\"))\n",
        "print(\"Recall Score = \", recall_score(y_test, NB_pred, average = \"binary\", pos_label = \"good\"))\n",
        "print(\"f1 score good = \", f1_score(y_test, NB_pred, average = \"binary\", pos_label = \"good\"))\n",
        "print(\"f1 score bad = \", f1_score(y_test, NB_pred, average = \"binary\", pos_label = \"bad\"))\n",
        "\n",
        "print(\"CM\", confusion_matrix(y_test, NB_pred))"
      ],
      "execution_count": 28,
      "outputs": [
        {
          "output_type": "stream",
          "text": [
            "Accuracy_Score =  0.612\n",
            "Precision Score =  0.7425149700598802\n",
            "Recall Score =  0.6966292134831461\n",
            "f1 score good =  0.7188405797101449\n",
            "f1 score bad =  0.3741935483870968\n",
            "CM [[ 29  43]\n",
            " [ 54 124]]\n"
          ],
          "name": "stdout"
        },
        {
          "output_type": "stream",
          "text": [
            "/usr/local/lib/python3.6/dist-packages/sklearn/naive_bayes.py:206: DataConversionWarning: A column-vector y was passed when a 1d array was expected. Please change the shape of y to (n_samples, ), for example using ravel().\n",
            "  y = column_or_1d(y, warn=True)\n"
          ],
          "name": "stderr"
        }
      ]
    },
    {
      "cell_type": "code",
      "metadata": {
        "id": "9lX1nObZjCgr",
        "outputId": "52581f43-e185-4e6c-bb0c-8e31249333f8",
        "colab": {
          "base_uri": "https://localhost:8080/",
          "height": 193
        }
      },
      "source": [
        "#K Nearest Neighbor\n",
        "from sklearn.neighbors import KNeighborsClassifier\n",
        "KNN = make_pipeline(KNeighborsClassifier())\n",
        "\n",
        "KNN_model = KNN.fit(X_train, y_train)\n",
        "KNN_pred = KNN.predict(X_test)\n",
        "\n",
        "print(\"Accuracy_Score = \", accuracy_score(y_test, KNN_pred))\n",
        "print(\"Precision Score = \", precision_score(y_test, KNN_pred, average = \"binary\", pos_label = \"good\"))\n",
        "print(\"Recall Score = \", recall_score(y_test, KNN_pred, average = \"binary\", pos_label = \"good\"))\n",
        "print(\"f1 score good = \", f1_score(y_test, KNN_pred, average = \"binary\", pos_label = \"good\"))\n",
        "print(\"f1 score bad = \", f1_score(y_test, KNN_pred, average = \"binary\", pos_label = \"bad\"))\n",
        "\n",
        "print(\"CM\", confusion_matrix(y_test, KNN_pred))"
      ],
      "execution_count": 29,
      "outputs": [
        {
          "output_type": "stream",
          "text": [
            "Accuracy_Score =  0.668\n",
            "Precision Score =  0.7251184834123223\n",
            "Recall Score =  0.8595505617977528\n",
            "f1 score good =  0.7866323907455013\n",
            "f1 score bad =  0.25225225225225223\n",
            "CM [[ 14  58]\n",
            " [ 25 153]]\n"
          ],
          "name": "stdout"
        },
        {
          "output_type": "stream",
          "text": [
            "/usr/local/lib/python3.6/dist-packages/sklearn/pipeline.py:354: DataConversionWarning: A column-vector y was passed when a 1d array was expected. Please change the shape of y to (n_samples, ), for example using ravel().\n",
            "  self._final_estimator.fit(Xt, y, **fit_params)\n"
          ],
          "name": "stderr"
        }
      ]
    },
    {
      "cell_type": "code",
      "metadata": {
        "id": "EfsCpwZWjlwx",
        "outputId": "b23f090e-bc67-402c-9353-4727304d2601",
        "colab": {
          "base_uri": "https://localhost:8080/",
          "height": 332
        }
      },
      "source": [
        "#Logistic Regression\n",
        "from sklearn.linear_model import LogisticRegression\n",
        "LR = make_pipeline(LogisticRegression())\n",
        "\n",
        "LR_model = LR.fit(X_train, y_train)\n",
        "LR_pred = LR.predict(X_test)\n",
        "\n",
        "print(\"Accuracy_Score = \", accuracy_score(y_test, LR_pred))\n",
        "print(\"Precision Score = \", precision_score(y_test, LR_pred, average = \"binary\", pos_label = \"good\"))\n",
        "print(\"Recall Score = \", recall_score(y_test, LR_pred, average = \"binary\", pos_label = \"good\"))\n",
        "print(\"f1 score good = \", f1_score(y_test, LR_pred, average = \"binary\", pos_label = \"good\"))\n",
        "print(\"f1 score bad = \", f1_score(y_test, LR_pred, average = \"binary\", pos_label = \"bad\"))\n",
        "\n",
        "print(\"CM\", confusion_matrix(y_test, LR_pred))"
      ],
      "execution_count": 30,
      "outputs": [
        {
          "output_type": "stream",
          "text": [
            "Accuracy_Score =  0.716\n",
            "Precision Score =  0.7442922374429224\n",
            "Recall Score =  0.9157303370786517\n",
            "f1 score good =  0.8211586901763225\n",
            "f1 score bad =  0.3106796116504854\n",
            "CM [[ 16  56]\n",
            " [ 15 163]]\n"
          ],
          "name": "stdout"
        },
        {
          "output_type": "stream",
          "text": [
            "/usr/local/lib/python3.6/dist-packages/sklearn/utils/validation.py:760: DataConversionWarning: A column-vector y was passed when a 1d array was expected. Please change the shape of y to (n_samples, ), for example using ravel().\n",
            "  y = column_or_1d(y, warn=True)\n",
            "/usr/local/lib/python3.6/dist-packages/sklearn/linear_model/_logistic.py:940: ConvergenceWarning: lbfgs failed to converge (status=1):\n",
            "STOP: TOTAL NO. of ITERATIONS REACHED LIMIT.\n",
            "\n",
            "Increase the number of iterations (max_iter) or scale the data as shown in:\n",
            "    https://scikit-learn.org/stable/modules/preprocessing.html\n",
            "Please also refer to the documentation for alternative solver options:\n",
            "    https://scikit-learn.org/stable/modules/linear_model.html#logistic-regression\n",
            "  extra_warning_msg=_LOGISTIC_SOLVER_CONVERGENCE_MSG)\n"
          ],
          "name": "stderr"
        }
      ]
    },
    {
      "cell_type": "code",
      "metadata": {
        "id": "4NtyLQKCkA86",
        "outputId": "b75dfa70-2b28-48c3-904c-695eea2fd8e9",
        "colab": {
          "base_uri": "https://localhost:8080/",
          "height": 193
        }
      },
      "source": [
        "#SVM\n",
        "from sklearn.svm import SVC\n",
        "SVM = make_pipeline(SVC())\n",
        "\n",
        "SVM_model = SVM.fit(X_train, y_train)\n",
        "SVM_pred = SVM.predict(X_test)\n",
        "\n",
        "print(\"Accuracy_Score = \", accuracy_score(y_test, SVM_pred))\n",
        "print(\"Precision Score = \", precision_score(y_test, SVM_pred, average = \"binary\", pos_label = \"good\"))\n",
        "print(\"Recall Score = \", recall_score(y_test, SVM_pred, average = \"binary\", pos_label = \"good\"))\n",
        "print(\"f1 score good = \", f1_score(y_test, SVM_pred, average = \"binary\", pos_label = \"good\"))\n",
        "print(\"f1 score bad = \", f1_score(y_test, SVM_pred, average = \"binary\", pos_label = \"bad\"))\n",
        "\n",
        "print(\"CM\", confusion_matrix(y_test, SVM_pred))"
      ],
      "execution_count": 34,
      "outputs": [
        {
          "output_type": "stream",
          "text": [
            "Accuracy_Score =  0.724\n",
            "Precision Score =  0.7224489795918367\n",
            "Recall Score =  0.9943820224719101\n",
            "f1 score good =  0.8368794326241134\n",
            "f1 score bad =  0.10389610389610389\n",
            "CM [[  4  68]\n",
            " [  1 177]]\n"
          ],
          "name": "stdout"
        },
        {
          "output_type": "stream",
          "text": [
            "/usr/local/lib/python3.6/dist-packages/sklearn/utils/validation.py:760: DataConversionWarning: A column-vector y was passed when a 1d array was expected. Please change the shape of y to (n_samples, ), for example using ravel().\n",
            "  y = column_or_1d(y, warn=True)\n"
          ],
          "name": "stderr"
        }
      ]
    },
    {
      "cell_type": "code",
      "metadata": {
        "id": "NKjBSyvYn39l"
      },
      "source": [
        "from sklearn.preprocessing import StandardScaler\n",
        "X_train_s = StandardScaler().fit_transform(X_train)\n",
        "X_test_s = StandardScaler().fit_transform(X_test)"
      ],
      "execution_count": 35,
      "outputs": []
    },
    {
      "cell_type": "code",
      "metadata": {
        "id": "ixvL9nQ5odhy",
        "outputId": "3b1df8eb-9ad2-47a7-ddb1-38fcdaba6fd0",
        "colab": {
          "base_uri": "https://localhost:8080/",
          "height": 139
        }
      },
      "source": [
        "#Decision Tree Standardized\n",
        "from sklearn.tree import DecisionTreeClassifier\n",
        "DT_s = make_pipeline(DecisionTreeClassifier())\n",
        "\n",
        "DT_model_s = DT.fit(X_train_s, y_train)\n",
        "DT_pred_s = DT.predict(X_test_s)\n",
        "\n",
        "print(\"Accuracy_Score = \", accuracy_score(y_test, DT_pred_s))\n",
        "print(\"Precision Score = \", precision_score(y_test, DT_pred_s, average = \"binary\", pos_label = \"good\"))\n",
        "print(\"Recall Score = \", recall_score(y_test, DT_pred_s, average = \"binary\", pos_label = \"good\"))\n",
        "print(\"f1 score good = \", f1_score(y_test, DT_pred_s, average = \"binary\", pos_label = \"good\"))\n",
        "print(\"f1 score bad = \", f1_score(y_test, DT_pred_s, average = \"binary\", pos_label = \"bad\"))\n",
        "\n",
        "print(\"CM\", confusion_matrix(y_test, DT_pred_s))"
      ],
      "execution_count": 36,
      "outputs": [
        {
          "output_type": "stream",
          "text": [
            "Accuracy_Score =  0.628\n",
            "Precision Score =  0.7707006369426752\n",
            "Recall Score =  0.6797752808988764\n",
            "f1 score good =  0.7223880597014924\n",
            "f1 score bad =  0.43636363636363634\n",
            "CM [[ 36  36]\n",
            " [ 57 121]]\n"
          ],
          "name": "stdout"
        }
      ]
    },
    {
      "cell_type": "code",
      "metadata": {
        "id": "94S6KvV4oxEj",
        "outputId": "3e6fbfa9-b23f-4b11-ac48-b36a9939fb20",
        "colab": {
          "base_uri": "https://localhost:8080/",
          "height": 193
        }
      },
      "source": [
        "#Naive Bayes Standardized\n",
        "from sklearn.naive_bayes import GaussianNB\n",
        "NB_s = make_pipeline(GaussianNB())\n",
        "\n",
        "NB_model_s = NB.fit(X_train_s, y_train)\n",
        "NB_pred_s = NB.predict(X_test_s)\n",
        "\n",
        "print(\"Accuracy_Score = \", accuracy_score(y_test, NB_pred_s))\n",
        "print(\"Precision Score = \", precision_score(y_test, NB_pred_s, average = \"binary\", pos_label = \"good\"))\n",
        "print(\"Recall Score = \", recall_score(y_test, NB_pred_s, average = \"binary\", pos_label = \"good\"))\n",
        "print(\"f1 score good = \", f1_score(y_test, NB_pred_s, average = \"binary\", pos_label = \"good\"))\n",
        "print(\"f1 score bad = \", f1_score(y_test, NB_pred_s, average = \"binary\", pos_label = \"bad\"))\n",
        "\n",
        "print(\"CM\", confusion_matrix(y_test, NB_pred_s))"
      ],
      "execution_count": 37,
      "outputs": [
        {
          "output_type": "stream",
          "text": [
            "Accuracy_Score =  0.608\n",
            "Precision Score =  0.7439024390243902\n",
            "Recall Score =  0.6853932584269663\n",
            "f1 score good =  0.7134502923976609\n",
            "f1 score bad =  0.379746835443038\n",
            "CM [[ 30  42]\n",
            " [ 56 122]]\n"
          ],
          "name": "stdout"
        },
        {
          "output_type": "stream",
          "text": [
            "/usr/local/lib/python3.6/dist-packages/sklearn/naive_bayes.py:206: DataConversionWarning: A column-vector y was passed when a 1d array was expected. Please change the shape of y to (n_samples, ), for example using ravel().\n",
            "  y = column_or_1d(y, warn=True)\n"
          ],
          "name": "stderr"
        }
      ]
    },
    {
      "cell_type": "code",
      "metadata": {
        "id": "RnyP5nx5o28i",
        "outputId": "23c65f68-8043-44be-ca6f-37c0663c17a9",
        "colab": {
          "base_uri": "https://localhost:8080/",
          "height": 193
        }
      },
      "source": [
        "#K Nearest Neighbor Standardized\n",
        "from sklearn.neighbors import KNeighborsClassifier\n",
        "KNN_s = make_pipeline(KNeighborsClassifier())\n",
        "\n",
        "KNN_model_s = KNN.fit(X_train_s, y_train)\n",
        "KNN_pred_s = KNN.predict(X_test_s)\n",
        "\n",
        "print(\"Accuracy_Score = \", accuracy_score(y_test, KNN_pred_s))\n",
        "print(\"Precision Score = \", precision_score(y_test, KNN_pred_s, average = \"binary\", pos_label = \"good\"))\n",
        "print(\"Recall Score = \", recall_score(y_test, KNN_pred_s, average = \"binary\", pos_label = \"good\"))\n",
        "print(\"f1 score good = \", f1_score(y_test, KNN_pred_s, average = \"binary\", pos_label = \"good\"))\n",
        "print(\"f1 score bad = \", f1_score(y_test, KNN_pred_s, average = \"binary\", pos_label = \"bad\"))\n",
        "\n",
        "print(\"CM\", confusion_matrix(y_test, KNN_pred_s))"
      ],
      "execution_count": 38,
      "outputs": [
        {
          "output_type": "stream",
          "text": [
            "Accuracy_Score =  0.676\n",
            "Precision Score =  0.7365853658536585\n",
            "Recall Score =  0.848314606741573\n",
            "f1 score good =  0.7885117493472585\n",
            "f1 score bad =  0.3076923076923077\n",
            "CM [[ 18  54]\n",
            " [ 27 151]]\n"
          ],
          "name": "stdout"
        },
        {
          "output_type": "stream",
          "text": [
            "/usr/local/lib/python3.6/dist-packages/sklearn/pipeline.py:354: DataConversionWarning: A column-vector y was passed when a 1d array was expected. Please change the shape of y to (n_samples, ), for example using ravel().\n",
            "  self._final_estimator.fit(Xt, y, **fit_params)\n"
          ],
          "name": "stderr"
        }
      ]
    },
    {
      "cell_type": "code",
      "metadata": {
        "id": "ubVwT_yJpBk0",
        "outputId": "af3a9790-b78b-44d6-b139-1dde3dc97bfa",
        "colab": {
          "base_uri": "https://localhost:8080/",
          "height": 193
        }
      },
      "source": [
        "#Logistic Regression Standardized\n",
        "from sklearn.linear_model import LogisticRegression\n",
        "LR_s = make_pipeline(LogisticRegression())\n",
        "\n",
        "LR_model_s = LR.fit(X_train_s, y_train)\n",
        "LR_pred_s = LR.predict(X_test_s)\n",
        "\n",
        "print(\"Accuracy_Score = \", accuracy_score(y_test, LR_pred_s))\n",
        "print(\"Precision Score = \", precision_score(y_test, LR_pred_s, average = \"binary\", pos_label = \"good\"))\n",
        "print(\"Recall Score = \", recall_score(y_test, LR_pred_s, average = \"binary\", pos_label = \"good\"))\n",
        "print(\"f1 score good = \", f1_score(y_test, LR_pred_s, average = \"binary\", pos_label = \"good\"))\n",
        "print(\"f1 score bad = \", f1_score(y_test, LR_pred_s, average = \"binary\", pos_label = \"bad\"))\n",
        "\n",
        "print(\"CM\", confusion_matrix(y_test, LR_pred_s))"
      ],
      "execution_count": 39,
      "outputs": [
        {
          "output_type": "stream",
          "text": [
            "Accuracy_Score =  0.704\n",
            "Precision Score =  0.7407407407407407\n",
            "Recall Score =  0.898876404494382\n",
            "f1 score good =  0.8121827411167513\n",
            "f1 score bad =  0.3018867924528302\n",
            "CM [[ 16  56]\n",
            " [ 18 160]]\n"
          ],
          "name": "stdout"
        },
        {
          "output_type": "stream",
          "text": [
            "/usr/local/lib/python3.6/dist-packages/sklearn/utils/validation.py:760: DataConversionWarning: A column-vector y was passed when a 1d array was expected. Please change the shape of y to (n_samples, ), for example using ravel().\n",
            "  y = column_or_1d(y, warn=True)\n"
          ],
          "name": "stderr"
        }
      ]
    },
    {
      "cell_type": "code",
      "metadata": {
        "id": "D_o1TNCKpL5e",
        "outputId": "c1a11eeb-abac-4e9d-d4a9-63a4d7124855",
        "colab": {
          "base_uri": "https://localhost:8080/",
          "height": 193
        }
      },
      "source": [
        "#SVM Standardized\n",
        "from sklearn.svm import SVC\n",
        "SVM_s = make_pipeline(SVC())\n",
        "\n",
        "SVM_model_s = SVM.fit(X_train_s, y_train)\n",
        "SVM_pred_s = SVM.predict(X_test_s)\n",
        "\n",
        "print(\"Accuracy_Score = \", accuracy_score(y_test, SVM_pred_s))\n",
        "print(\"Precision Score = \", precision_score(y_test, SVM_pred_s, average = \"binary\", pos_label = \"good\"))\n",
        "print(\"Recall Score = \", recall_score(y_test, SVM_pred_s, average = \"binary\", pos_label = \"good\"))\n",
        "print(\"f1 score good = \", f1_score(y_test, SVM_pred_s, average = \"binary\", pos_label = \"good\"))\n",
        "print(\"f1 score bad = \", f1_score(y_test, SVM_pred_s, average = \"binary\", pos_label = \"bad\"))\n",
        "\n",
        "print(\"CM\", confusion_matrix(y_test, SVM_pred_s))"
      ],
      "execution_count": 40,
      "outputs": [
        {
          "output_type": "stream",
          "text": [
            "Accuracy_Score =  0.72\n",
            "Precision Score =  0.726890756302521\n",
            "Recall Score =  0.9719101123595506\n",
            "f1 score good =  0.8317307692307693\n",
            "f1 score bad =  0.16666666666666666\n",
            "CM [[  7  65]\n",
            " [  5 173]]\n"
          ],
          "name": "stdout"
        },
        {
          "output_type": "stream",
          "text": [
            "/usr/local/lib/python3.6/dist-packages/sklearn/utils/validation.py:760: DataConversionWarning: A column-vector y was passed when a 1d array was expected. Please change the shape of y to (n_samples, ), for example using ravel().\n",
            "  y = column_or_1d(y, warn=True)\n"
          ],
          "name": "stderr"
        }
      ]
    },
    {
      "cell_type": "code",
      "metadata": {
        "id": "fjr5-MFUpfxs",
        "outputId": "5c695f15-c87d-43e3-95fe-0b5ce3a882d8",
        "colab": {
          "base_uri": "https://localhost:8080/",
          "height": 193
        }
      },
      "source": [
        "# Pipeline for Random Forest Model (Standardized)\n",
        "from sklearn.ensemble import RandomForestClassifier\n",
        "Random = make_pipeline(RandomForestClassifier(n_estimators = 1000,\n",
        "                                             n_jobs = -1))\n",
        "\n",
        "Random_model = Random.fit(X_train_s, y_train)\n",
        "Random_pred = Random.predict(X_test_s)\n",
        "\n",
        "print(\"Accuracy_Score = \", accuracy_score(y_test, Random_pred))\n",
        "print(\"Precision Score = \", precision_score(y_test, Random_pred, average = \"binary\", pos_label = \"good\"))\n",
        "print(\"Recall Score = \", recall_score(y_test, Random_pred, average = \"binary\", pos_label = \"good\"))\n",
        "print(\"f1 score good = \", f1_score(y_test, Random_pred, average = \"binary\", pos_label = \"good\"))\n",
        "print(\"f1 score bad = \", f1_score(y_test, Random_pred, average = \"binary\", pos_label = \"bad\"))\n",
        "\n",
        "print(\"CM\", confusion_matrix(y_test, Random_pred))"
      ],
      "execution_count": 41,
      "outputs": [
        {
          "output_type": "stream",
          "text": [
            "/usr/local/lib/python3.6/dist-packages/sklearn/pipeline.py:354: DataConversionWarning: A column-vector y was passed when a 1d array was expected. Please change the shape of y to (n_samples,), for example using ravel().\n",
            "  self._final_estimator.fit(Xt, y, **fit_params)\n"
          ],
          "name": "stderr"
        },
        {
          "output_type": "stream",
          "text": [
            "Accuracy_Score =  0.716\n",
            "Precision Score =  0.7609756097560976\n",
            "Recall Score =  0.8764044943820225\n",
            "f1 score good =  0.814621409921671\n",
            "f1 score bad =  0.39316239316239315\n",
            "CM [[ 23  49]\n",
            " [ 22 156]]\n"
          ],
          "name": "stdout"
        }
      ]
    },
    {
      "cell_type": "code",
      "metadata": {
        "id": "Sm04LDSHquxn",
        "outputId": "486acc84-fa3f-4898-ffea-23782627d3c0",
        "colab": {
          "base_uri": "https://localhost:8080/",
          "height": 193
        }
      },
      "source": [
        "# Pipeline for AdaBoost Model (Standardized)\n",
        "# Both imports are required cause AdaBoost can use other algorithms\n",
        "from sklearn.ensemble import AdaBoostClassifier\n",
        "ada_class = make_pipeline(AdaBoostClassifier()) #Need to explore learning rate more\n",
        "\n",
        "ada_model = ada_class.fit(X_train_s, y_train)\n",
        "ada_pred = ada_class.predict(X_test_s)\n",
        "\n",
        "print(\"Accuracy_Score = \", accuracy_score(y_test, ada_pred))\n",
        "print(\"Precision Score = \", precision_score(y_test, ada_pred, average = \"binary\", pos_label = \"good\"))\n",
        "print(\"Recall Score = \", recall_score(y_test, ada_pred, average = \"binary\", pos_label = \"good\"))\n",
        "print(\"f1 score good = \", f1_score(y_test, ada_pred, average = \"binary\", pos_label = \"good\"))\n",
        "print(\"f1 score bad = \", f1_score(y_test, ada_pred, average = \"binary\", pos_label = \"bad\"))\n",
        "\n",
        "print(\"CM\", confusion_matrix(y_test, ada_pred))\n",
        "\n"
      ],
      "execution_count": 42,
      "outputs": [
        {
          "output_type": "stream",
          "text": [
            "Accuracy_Score =  0.692\n",
            "Precision Score =  0.7348837209302326\n",
            "Recall Score =  0.8876404494382022\n",
            "f1 score good =  0.8040712468193384\n",
            "f1 score bad =  0.28037383177570097\n",
            "CM [[ 15  57]\n",
            " [ 20 158]]\n"
          ],
          "name": "stdout"
        },
        {
          "output_type": "stream",
          "text": [
            "/usr/local/lib/python3.6/dist-packages/sklearn/utils/validation.py:760: DataConversionWarning: A column-vector y was passed when a 1d array was expected. Please change the shape of y to (n_samples, ), for example using ravel().\n",
            "  y = column_or_1d(y, warn=True)\n"
          ],
          "name": "stderr"
        }
      ]
    },
    {
      "cell_type": "code",
      "metadata": {
        "id": "46cqQFtKuRl6",
        "outputId": "8ab1b36a-a012-48a8-b14e-a633b20e0708",
        "colab": {
          "base_uri": "https://localhost:8080/",
          "height": 228
        }
      },
      "source": [
        "#Pipeline for XGBOOST classifier\n",
        "from xgboost import XGBClassifier \n",
        "xgb_class = make_pipeline(XGBClassifier())\n",
        "\n",
        "xgb_model = xgb_class.fit(X_train_s, y_train)\n",
        "xgb_pred = xgb_class.predict(X_test_s)\n",
        "\n",
        "print(\"Accuracy_Score = \", accuracy_score(y_test, xgb_pred))\n",
        "print(\"Precision Score = \", precision_score(y_test, xgb_pred, average = \"binary\", pos_label = \"good\"))\n",
        "print(\"Recall Score = \", recall_score(y_test, xgb_pred, average = \"binary\", pos_label = \"good\"))\n",
        "print(\"f1 score good = \", f1_score(y_test, xgb_pred, average = \"binary\", pos_label = \"good\"))\n",
        "print(\"f1 score bad = \", f1_score(y_test, xgb_pred, average = \"binary\", pos_label = \"bad\"))\n",
        "\n",
        "print(\"CM\", confusion_matrix(y_test, xgb_pred))\n"
      ],
      "execution_count": 43,
      "outputs": [
        {
          "output_type": "stream",
          "text": [
            "Accuracy_Score =  0.7\n",
            "Precision Score =  0.7288888888888889\n",
            "Recall Score =  0.9213483146067416\n",
            "f1 score good =  0.8138957816377173\n",
            "f1 score bad =  0.22680412371134018\n",
            "CM [[ 11  61]\n",
            " [ 14 164]]\n"
          ],
          "name": "stdout"
        },
        {
          "output_type": "stream",
          "text": [
            "/usr/local/lib/python3.6/dist-packages/sklearn/preprocessing/_label.py:235: DataConversionWarning: A column-vector y was passed when a 1d array was expected. Please change the shape of y to (n_samples, ), for example using ravel().\n",
            "  y = column_or_1d(y, warn=True)\n",
            "/usr/local/lib/python3.6/dist-packages/sklearn/preprocessing/_label.py:268: DataConversionWarning: A column-vector y was passed when a 1d array was expected. Please change the shape of y to (n_samples, ), for example using ravel().\n",
            "  y = column_or_1d(y, warn=True)\n"
          ],
          "name": "stderr"
        }
      ]
    },
    {
      "cell_type": "code",
      "metadata": {
        "id": "RrzdjMwDvgBL",
        "outputId": "26bef1c2-1de8-4f34-9e4c-7bb856943bb9",
        "colab": {
          "base_uri": "https://localhost:8080/",
          "height": 367
        }
      },
      "source": [
        "from sklearn.ensemble import VotingClassifier\n",
        "voting_class = VotingClassifier(estimators = [(\"D_tree\", DT_s),\n",
        "                                           (\"Naive\", NB_s),\n",
        "                                           (\"Neighbor\", KNN_s),\n",
        "                                           (\"Lin_R\", LR_s),\n",
        "                                           (\"SVC\", SVM_s),\n",
        "                                            (\"rf\", Random),\n",
        "                                           (\"ada\", ada_class),\n",
        "                                           (\"XGBC\", xgb_class)], voting = \"hard\")\n",
        "\n",
        "\n",
        "voting_model = voting_class.fit(X_train, y_train)\n",
        "voting_pred = voting_class.predict(X_test)\n",
        "\n",
        "\n",
        "  \n",
        "print(\"Accuracy_Score = \", accuracy_score(y_test, voting_pred))\n",
        "print(\"Precision Score = \", precision_score(y_test, voting_pred, average = \"binary\", pos_label = \"good\"))\n",
        "print(\"Recall Score = \", recall_score(y_test, voting_pred, average = \"binary\", pos_label = \"good\"))\n",
        "print(\"f1 score good = \", f1_score(y_test, voting_pred, average = \"binary\", pos_label = \"good\"))\n",
        "print(\"f1 score bad = \", f1_score(y_test, voting_pred, average = \"binary\", pos_label = \"bad\"))\n",
        "\n",
        "print(\"CM\", confusion_matrix(y_test, voting_pred))"
      ],
      "execution_count": 44,
      "outputs": [
        {
          "output_type": "stream",
          "text": [
            "/usr/local/lib/python3.6/dist-packages/sklearn/preprocessing/_label.py:235: DataConversionWarning: A column-vector y was passed when a 1d array was expected. Please change the shape of y to (n_samples, ), for example using ravel().\n",
            "  y = column_or_1d(y, warn=True)\n",
            "/usr/local/lib/python3.6/dist-packages/sklearn/preprocessing/_label.py:268: DataConversionWarning: A column-vector y was passed when a 1d array was expected. Please change the shape of y to (n_samples, ), for example using ravel().\n",
            "  y = column_or_1d(y, warn=True)\n",
            "/usr/local/lib/python3.6/dist-packages/sklearn/linear_model/_logistic.py:940: ConvergenceWarning: lbfgs failed to converge (status=1):\n",
            "STOP: TOTAL NO. of ITERATIONS REACHED LIMIT.\n",
            "\n",
            "Increase the number of iterations (max_iter) or scale the data as shown in:\n",
            "    https://scikit-learn.org/stable/modules/preprocessing.html\n",
            "Please also refer to the documentation for alternative solver options:\n",
            "    https://scikit-learn.org/stable/modules/linear_model.html#logistic-regression\n",
            "  extra_warning_msg=_LOGISTIC_SOLVER_CONVERGENCE_MSG)\n"
          ],
          "name": "stderr"
        },
        {
          "output_type": "stream",
          "text": [
            "Accuracy_Score =  0.704\n",
            "Precision Score =  0.7429906542056075\n",
            "Recall Score =  0.8932584269662921\n",
            "f1 score good =  0.8112244897959183\n",
            "f1 score bad =  0.3148148148148148\n",
            "CM [[ 17  55]\n",
            " [ 19 159]]\n"
          ],
          "name": "stdout"
        }
      ]
    }
  ]
}